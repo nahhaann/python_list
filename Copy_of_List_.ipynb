{
  "nbformat": 4,
  "nbformat_minor": 0,
  "metadata": {
    "colab": {
      "provenance": []
    },
    "kernelspec": {
      "name": "python3",
      "display_name": "Python 3"
    },
    "language_info": {
      "name": "python"
    }
  },
  "cells": [
    {
      "cell_type": "code",
      "execution_count": null,
      "metadata": {
        "colab": {
          "base_uri": "https://localhost:8080/"
        },
        "id": "D1OMzYbvFKkc",
        "outputId": "85675e5d-88fe-4fee-d2cd-9336ac3f9afb"
      },
      "outputs": [
        {
          "output_type": "stream",
          "name": "stdout",
          "text": [
            "46\n",
            "38\n"
          ]
        }
      ],
      "source": [
        "import random\n",
        "print(random.randrange(1,100))\n",
        "print(random.randrange(1,50))"
      ]
    },
    {
      "cell_type": "code",
      "source": [
        "a=[1,2,3,4]\n",
        "average=sum(a)\n",
        "print(average)"
      ],
      "metadata": {
        "id": "ibZhjxbnBpL3",
        "outputId": "eea6e288-27a2-41e4-b1fb-17ab7f23b073",
        "colab": {
          "base_uri": "https://localhost:8080/"
        }
      },
      "execution_count": null,
      "outputs": [
        {
          "output_type": "stream",
          "name": "stdout",
          "text": [
            "10\n"
          ]
        }
      ]
    },
    {
      "cell_type": "code",
      "source": [
        "import random\n",
        "for i in range(50):\n",
        "    print(random.randrange(1,100))"
      ],
      "metadata": {
        "colab": {
          "base_uri": "https://localhost:8080/"
        },
        "id": "X6bVLjUQIvjY",
        "outputId": "8f854182-0bb7-4879-9ea3-9194b05e6e34"
      },
      "execution_count": null,
      "outputs": [
        {
          "output_type": "stream",
          "name": "stdout",
          "text": [
            "61\n",
            "28\n",
            "11\n",
            "96\n",
            "9\n",
            "39\n",
            "19\n",
            "67\n",
            "91\n",
            "45\n",
            "17\n",
            "99\n",
            "71\n",
            "36\n",
            "63\n",
            "91\n",
            "62\n",
            "82\n",
            "35\n",
            "96\n",
            "70\n",
            "91\n",
            "18\n",
            "99\n",
            "67\n",
            "72\n",
            "88\n",
            "12\n",
            "3\n",
            "84\n",
            "4\n",
            "39\n",
            "57\n",
            "59\n",
            "64\n",
            "57\n",
            "40\n",
            "20\n",
            "37\n",
            "53\n",
            "27\n",
            "52\n",
            "5\n",
            "42\n",
            "14\n",
            "54\n",
            "45\n",
            "2\n",
            "32\n",
            "19\n"
          ]
        }
      ]
    },
    {
      "cell_type": "code",
      "source": [
        "u=[1,2,3,4,]\n",
        "u.append(5)\n",
        "print(u)"
      ],
      "metadata": {
        "colab": {
          "base_uri": "https://localhost:8080/"
        },
        "id": "Cr3sX16MLdVh",
        "outputId": "0b86e979-913b-44b2-dd9f-3a6ed06253c1"
      },
      "execution_count": null,
      "outputs": [
        {
          "output_type": "stream",
          "name": "stdout",
          "text": [
            "[1, 2, 3, 4, 5]\n"
          ]
        }
      ]
    },
    {
      "cell_type": "code",
      "source": [
        "from random import randint\n",
        "manu=[]\n",
        "for i in range(10):\n",
        "  manu.append(random.randint(1,100))\n",
        "print(manu)"
      ],
      "metadata": {
        "colab": {
          "base_uri": "https://localhost:8080/"
        },
        "id": "U5piYjvHMR6_",
        "outputId": "db84b5e2-e496-4a5f-ae35-4f77fd4174da"
      },
      "execution_count": null,
      "outputs": [
        {
          "output_type": "stream",
          "name": "stdout",
          "text": [
            "[40, 34, 69, 72, 91, 72, 26, 54, 19, 30]\n"
          ]
        }
      ]
    },
    {
      "cell_type": "code",
      "source": [
        "u=[1,2,3,4,]\n",
        "u.remove(2)\n",
        "print(u)"
      ],
      "metadata": {
        "colab": {
          "base_uri": "https://localhost:8080/"
        },
        "id": "F0O-YR1SNY7F",
        "outputId": "04420f35-bf1c-44e1-ca60-2cb32ae680e1"
      },
      "execution_count": null,
      "outputs": [
        {
          "output_type": "stream",
          "name": "stdout",
          "text": [
            "[1, 3, 4]\n"
          ]
        }
      ]
    },
    {
      "cell_type": "code",
      "source": [
        "a=[]\n",
        "a.append(1)\n",
        "a.append(2)\n",
        "a.append(3)\n",
        "print(a)"
      ],
      "metadata": {
        "id": "0tkqyE4IVGG9",
        "colab": {
          "base_uri": "https://localhost:8080/"
        },
        "outputId": "07570bc6-71fa-4fe9-f404-cdf850421d3f"
      },
      "execution_count": null,
      "outputs": [
        {
          "output_type": "stream",
          "name": "stdout",
          "text": [
            "[1, 2, 3]\n"
          ]
        }
      ]
    },
    {
      "cell_type": "code",
      "source": [
        "a=[\"blue\",\"brown\",\"red\"]\n",
        "a.insert(2,\"pink\")\n",
        "print(a)"
      ],
      "metadata": {
        "colab": {
          "base_uri": "https://localhost:8080/"
        },
        "id": "rh9reMAm80pl",
        "outputId": "08773087-90b1-4b8f-90d7-7d91ed1ac6c7"
      },
      "execution_count": null,
      "outputs": [
        {
          "output_type": "stream",
          "name": "stdout",
          "text": [
            "['blue', 'brown', 'pink', 'red']\n"
          ]
        }
      ]
    },
    {
      "cell_type": "code",
      "source": [
        "a=[1,2,3,4]\n",
        "b=[5,6,7,8]\n",
        "a.extend(b)\n",
        "print(a)"
      ],
      "metadata": {
        "colab": {
          "base_uri": "https://localhost:8080/"
        },
        "id": "ko5p3DTV-a4E",
        "outputId": "353d9193-c064-4e35-fcfa-da91931161d8"
      },
      "execution_count": null,
      "outputs": [
        {
          "output_type": "stream",
          "name": "stdout",
          "text": [
            "[1, 2, 3, 4, 5, 6, 7, 8]\n"
          ]
        }
      ]
    },
    {
      "cell_type": "code",
      "source": [
        "a=[\"tiger\",\"lion\",\"zebra\",\"elephant\"]\n",
        "a.remove('zebra')\n",
        "print(a)"
      ],
      "metadata": {
        "colab": {
          "base_uri": "https://localhost:8080/"
        },
        "id": "YWvt88V5-2HT",
        "outputId": "cebe2f4d-7600-4abe-8a77-79721ca78819"
      },
      "execution_count": null,
      "outputs": [
        {
          "output_type": "stream",
          "name": "stdout",
          "text": [
            "['tiger', 'lion', 'elephant']\n"
          ]
        }
      ]
    },
    {
      "cell_type": "code",
      "source": [
        "a=[\"mango\",\"apple\",\"orange\"]\n",
        "a.pop(2)\n",
        "print(a)"
      ],
      "metadata": {
        "colab": {
          "base_uri": "https://localhost:8080/"
        },
        "id": "mEOnEKCKAN6V",
        "outputId": "34055f5d-1237-4eef-c33e-72291834502d"
      },
      "execution_count": null,
      "outputs": [
        {
          "output_type": "stream",
          "name": "stdout",
          "text": [
            "['mango', 'apple']\n"
          ]
        }
      ]
    },
    {
      "cell_type": "code",
      "source": [
        "a=[\"bmw\",\"benz\",\"gt\",\"alto\"]\n",
        "del a[2]\n",
        "print(a)"
      ],
      "metadata": {
        "colab": {
          "base_uri": "https://localhost:8080/"
        },
        "id": "tbqkD5EZA1nj",
        "outputId": "8d18480f-4d25-418b-d812-6c798f134c6d"
      },
      "execution_count": null,
      "outputs": [
        {
          "output_type": "stream",
          "name": "stdout",
          "text": [
            "['bmw', 'benz', 'alto']\n"
          ]
        }
      ]
    },
    {
      "cell_type": "code",
      "source": [
        " a=[\"london\",\"uk\",\"uae\"]\n",
        " a.clear()\n",
        " print(a)"
      ],
      "metadata": {
        "colab": {
          "base_uri": "https://localhost:8080/"
        },
        "id": "tGy5vLbxBhx0",
        "outputId": "3b37d6d3-d253-425d-e424-9bfb7801d088"
      },
      "execution_count": null,
      "outputs": [
        {
          "output_type": "stream",
          "name": "stdout",
          "text": [
            "[]\n"
          ]
        }
      ]
    },
    {
      "cell_type": "code",
      "source": [
        "a=[\"nahan\",\"manu\",\"shamil\"]\n",
        "for x in a:\n",
        "  print(x)\n"
      ],
      "metadata": {
        "colab": {
          "base_uri": "https://localhost:8080/"
        },
        "id": "9nc04GgVGqco",
        "outputId": "4f1b73cf-3d29-4d55-f003-e2b519d5d4bd"
      },
      "execution_count": null,
      "outputs": [
        {
          "output_type": "stream",
          "name": "stdout",
          "text": [
            "nahan\n",
            "manu\n",
            "shamil\n"
          ]
        }
      ]
    },
    {
      "cell_type": "code",
      "source": [
        "a=[1,2,3,4]\n",
        "for i in range(len(a)):\n",
        "  print(f\"index{i}:{a[i]}\")"
      ],
      "metadata": {
        "colab": {
          "base_uri": "https://localhost:8080/"
        },
        "id": "82ia13NlIB-A",
        "outputId": "cc34b02c-9d0f-4f88-d7a3-a45ebe1c1473"
      },
      "execution_count": null,
      "outputs": [
        {
          "output_type": "stream",
          "name": "stdout",
          "text": [
            "index0:1\n",
            "index1:2\n",
            "index2:3\n",
            "index3:4\n"
          ]
        }
      ]
    },
    {
      "cell_type": "code",
      "source": [
        "a=[x**2 for x in range(1,6)]\n",
        "print(a)"
      ],
      "metadata": {
        "colab": {
          "base_uri": "https://localhost:8080/"
        },
        "id": "ilMqMlvNNIkK",
        "outputId": "06a8187d-be63-44a5-e42c-13f4c6d79557"
      },
      "execution_count": null,
      "outputs": [
        {
          "output_type": "stream",
          "name": "stdout",
          "text": [
            "[1, 4, 9, 16, 25]\n"
          ]
        }
      ]
    },
    {
      "cell_type": "code",
      "source": [
        "a=[x for x in range(1,11,2)]\n",
        "print(a)\n"
      ],
      "metadata": {
        "colab": {
          "base_uri": "https://localhost:8080/"
        },
        "id": "J8IP_O5EwL03",
        "outputId": "37c10d33-fb5d-42ff-ede3-1db6aeee470a"
      },
      "execution_count": null,
      "outputs": [
        {
          "output_type": "stream",
          "name": "stdout",
          "text": [
            "[1, 3, 5, 7, 9]\n"
          ]
        }
      ]
    },
    {
      "cell_type": "code",
      "source": [
        "a=[1,2,3,4,5]\n",
        "b=a[0]\n",
        "a[0]=a[3]\n",
        "a[3]=b\n",
        "print(a)"
      ],
      "metadata": {
        "colab": {
          "base_uri": "https://localhost:8080/"
        },
        "id": "lph95K6N2t96",
        "outputId": "834af697-1819-4ceb-be50-b84057d3800f"
      },
      "execution_count": null,
      "outputs": [
        {
          "output_type": "stream",
          "name": "stdout",
          "text": [
            "[4, 2, 3, 1, 5]\n"
          ]
        }
      ]
    }
  ]
}